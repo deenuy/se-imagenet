{
 "cells": [
  {
   "cell_type": "code",
   "execution_count": 15,
   "source": [
    "import json\n",
    "import pandas as pd\n",
    "import numpy as np"
   ],
   "outputs": [],
   "metadata": {}
  },
  {
   "cell_type": "code",
   "execution_count": 67,
   "source": [
    "with open('SEDict.json') as f:\n",
    "  seDict = json.load(f)"
   ],
   "outputs": [],
   "metadata": {}
  },
  {
   "cell_type": "code",
   "execution_count": 4,
   "source": [
    "print(data)"
   ],
   "outputs": [
    {
     "output_type": "stream",
     "name": "stderr",
     "text": [
      "IOPub data rate exceeded.\n",
      "The notebook server will temporarily stop sending output\n",
      "to the client in order to avoid crashing it.\n",
      "To change this limit, set the config variable\n",
      "`--NotebookApp.iopub_data_rate_limit`.\n",
      "\n",
      "Current values:\n",
      "NotebookApp.iopub_data_rate_limit=1000000.0 (bytes/sec)\n",
      "NotebookApp.rate_limit_window=3.0 (secs)\n",
      "\n"
     ]
    }
   ],
   "metadata": {}
  },
  {
   "cell_type": "code",
   "execution_count": 7,
   "source": [
    "df = pd.read_json('SEDict.json')"
   ],
   "outputs": [],
   "metadata": {}
  },
  {
   "cell_type": "code",
   "execution_count": 8,
   "source": [
    "df.head()"
   ],
   "outputs": [
    {
     "output_type": "execute_result",
     "data": {
      "text/plain": [
       "                                                             use  \\\n",
       "relevantWords  [{'call': ''}, {'provide': ''}, {'add': ''}, {...   \n",
       "wikiLink                                                      []   \n",
       "\n",
       "                                                          change  \\\n",
       "relevantWords  [{'modifiy': ''}, {'modifiactions': ''}, {'sto...   \n",
       "wikiLink                                                      []   \n",
       "\n",
       "                                                            form  \\\n",
       "relevantWords  [{'modelmultiplechoicefields': ''}, {'form han...   \n",
       "wikiLink                                                      []   \n",
       "\n",
       "                                                         opacity  \\\n",
       "relevantWords  [{'pdfpagerenderoptions': ''}, {'transparency'...   \n",
       "wikiLink                                                      []   \n",
       "\n",
       "                                                           build  \\\n",
       "relevantWords  [{'projectrefs': ''}, {'package for store': ''...   \n",
       "wikiLink                                                      []   \n",
       "\n",
       "                                                     application  \\\n",
       "relevantWords  [{'sf root dir': ''}, {'sprintboot': ''}, {'hy...   \n",
       "wikiLink                                                      []   \n",
       "\n",
       "                                                           error  \\\n",
       "relevantWords  [{'erreur': ''}, {'response status': ''}, {'un...   \n",
       "wikiLink                                                      []   \n",
       "\n",
       "                                                        implicit  \\\n",
       "relevantWords  [{'w1057': ''}, {'tid t': ''}, {'cs4010': ''},...   \n",
       "wikiLink                                                      []   \n",
       "\n",
       "                                                         convert  \\\n",
       "relevantWords  [{'guidconverter': ''}, {'typecasted': ''}, {'...   \n",
       "wikiLink                                                      []   \n",
       "\n",
       "                                                            type  ...  \\\n",
       "relevantWords  [{'invar': ''}, {'dto type': ''}, {'non covari...  ...   \n",
       "wikiLink                                                      []  ...   \n",
       "\n",
       "              file.your data type id firlds field.its data.rds datetbl  \\\n",
       "relevantWords        []           []     []        []       []      []   \n",
       "wikiLink             []           []     []        []       []      []   \n",
       "\n",
       "              data.frq dabatases database.those databanks  \n",
       "relevantWords       []        []             []        []  \n",
       "wikiLink            []        []             []        []  \n",
       "\n",
       "[2 rows x 104372 columns]"
      ],
      "text/html": [
       "<div>\n",
       "<style scoped>\n",
       "    .dataframe tbody tr th:only-of-type {\n",
       "        vertical-align: middle;\n",
       "    }\n",
       "\n",
       "    .dataframe tbody tr th {\n",
       "        vertical-align: top;\n",
       "    }\n",
       "\n",
       "    .dataframe thead th {\n",
       "        text-align: right;\n",
       "    }\n",
       "</style>\n",
       "<table border=\"1\" class=\"dataframe\">\n",
       "  <thead>\n",
       "    <tr style=\"text-align: right;\">\n",
       "      <th></th>\n",
       "      <th>use</th>\n",
       "      <th>change</th>\n",
       "      <th>form</th>\n",
       "      <th>opacity</th>\n",
       "      <th>build</th>\n",
       "      <th>application</th>\n",
       "      <th>error</th>\n",
       "      <th>implicit</th>\n",
       "      <th>convert</th>\n",
       "      <th>type</th>\n",
       "      <th>...</th>\n",
       "      <th>file.your</th>\n",
       "      <th>data type id</th>\n",
       "      <th>firlds</th>\n",
       "      <th>field.its</th>\n",
       "      <th>data.rds</th>\n",
       "      <th>datetbl</th>\n",
       "      <th>data.frq</th>\n",
       "      <th>dabatases</th>\n",
       "      <th>database.those</th>\n",
       "      <th>databanks</th>\n",
       "    </tr>\n",
       "  </thead>\n",
       "  <tbody>\n",
       "    <tr>\n",
       "      <th>relevantWords</th>\n",
       "      <td>[{'call': ''}, {'provide': ''}, {'add': ''}, {...</td>\n",
       "      <td>[{'modifiy': ''}, {'modifiactions': ''}, {'sto...</td>\n",
       "      <td>[{'modelmultiplechoicefields': ''}, {'form han...</td>\n",
       "      <td>[{'pdfpagerenderoptions': ''}, {'transparency'...</td>\n",
       "      <td>[{'projectrefs': ''}, {'package for store': ''...</td>\n",
       "      <td>[{'sf root dir': ''}, {'sprintboot': ''}, {'hy...</td>\n",
       "      <td>[{'erreur': ''}, {'response status': ''}, {'un...</td>\n",
       "      <td>[{'w1057': ''}, {'tid t': ''}, {'cs4010': ''},...</td>\n",
       "      <td>[{'guidconverter': ''}, {'typecasted': ''}, {'...</td>\n",
       "      <td>[{'invar': ''}, {'dto type': ''}, {'non covari...</td>\n",
       "      <td>...</td>\n",
       "      <td>[]</td>\n",
       "      <td>[]</td>\n",
       "      <td>[]</td>\n",
       "      <td>[]</td>\n",
       "      <td>[]</td>\n",
       "      <td>[]</td>\n",
       "      <td>[]</td>\n",
       "      <td>[]</td>\n",
       "      <td>[]</td>\n",
       "      <td>[]</td>\n",
       "    </tr>\n",
       "    <tr>\n",
       "      <th>wikiLink</th>\n",
       "      <td>[]</td>\n",
       "      <td>[]</td>\n",
       "      <td>[]</td>\n",
       "      <td>[]</td>\n",
       "      <td>[]</td>\n",
       "      <td>[]</td>\n",
       "      <td>[]</td>\n",
       "      <td>[]</td>\n",
       "      <td>[]</td>\n",
       "      <td>[]</td>\n",
       "      <td>...</td>\n",
       "      <td>[]</td>\n",
       "      <td>[]</td>\n",
       "      <td>[]</td>\n",
       "      <td>[]</td>\n",
       "      <td>[]</td>\n",
       "      <td>[]</td>\n",
       "      <td>[]</td>\n",
       "      <td>[]</td>\n",
       "      <td>[]</td>\n",
       "      <td>[]</td>\n",
       "    </tr>\n",
       "  </tbody>\n",
       "</table>\n",
       "<p>2 rows × 104372 columns</p>\n",
       "</div>"
      ]
     },
     "metadata": {},
     "execution_count": 8
    }
   ],
   "metadata": {}
  },
  {
   "cell_type": "code",
   "execution_count": 17,
   "source": [
    "df_trans = df.T"
   ],
   "outputs": [],
   "metadata": {}
  },
  {
   "cell_type": "code",
   "execution_count": 18,
   "source": [
    "df_trans.head()"
   ],
   "outputs": [
    {
     "output_type": "execute_result",
     "data": {
      "text/plain": [
       "                                             relevantWords wikiLink\n",
       "use      [{'call': ''}, {'provide': ''}, {'add': ''}, {...       []\n",
       "change   [{'modifiy': ''}, {'modifiactions': ''}, {'sto...       []\n",
       "form     [{'modelmultiplechoicefields': ''}, {'form han...       []\n",
       "opacity  [{'pdfpagerenderoptions': ''}, {'transparency'...       []\n",
       "build    [{'projectrefs': ''}, {'package for store': ''...       []"
      ],
      "text/html": [
       "<div>\n",
       "<style scoped>\n",
       "    .dataframe tbody tr th:only-of-type {\n",
       "        vertical-align: middle;\n",
       "    }\n",
       "\n",
       "    .dataframe tbody tr th {\n",
       "        vertical-align: top;\n",
       "    }\n",
       "\n",
       "    .dataframe thead th {\n",
       "        text-align: right;\n",
       "    }\n",
       "</style>\n",
       "<table border=\"1\" class=\"dataframe\">\n",
       "  <thead>\n",
       "    <tr style=\"text-align: right;\">\n",
       "      <th></th>\n",
       "      <th>relevantWords</th>\n",
       "      <th>wikiLink</th>\n",
       "    </tr>\n",
       "  </thead>\n",
       "  <tbody>\n",
       "    <tr>\n",
       "      <th>use</th>\n",
       "      <td>[{'call': ''}, {'provide': ''}, {'add': ''}, {...</td>\n",
       "      <td>[]</td>\n",
       "    </tr>\n",
       "    <tr>\n",
       "      <th>change</th>\n",
       "      <td>[{'modifiy': ''}, {'modifiactions': ''}, {'sto...</td>\n",
       "      <td>[]</td>\n",
       "    </tr>\n",
       "    <tr>\n",
       "      <th>form</th>\n",
       "      <td>[{'modelmultiplechoicefields': ''}, {'form han...</td>\n",
       "      <td>[]</td>\n",
       "    </tr>\n",
       "    <tr>\n",
       "      <th>opacity</th>\n",
       "      <td>[{'pdfpagerenderoptions': ''}, {'transparency'...</td>\n",
       "      <td>[]</td>\n",
       "    </tr>\n",
       "    <tr>\n",
       "      <th>build</th>\n",
       "      <td>[{'projectrefs': ''}, {'package for store': ''...</td>\n",
       "      <td>[]</td>\n",
       "    </tr>\n",
       "  </tbody>\n",
       "</table>\n",
       "</div>"
      ]
     },
     "metadata": {},
     "execution_count": 18
    }
   ],
   "metadata": {}
  },
  {
   "cell_type": "code",
   "execution_count": 10,
   "source": [
    "df['use'].apply(pd.Series)"
   ],
   "outputs": [
    {
     "output_type": "execute_result",
     "data": {
      "text/plain": [
       "                          0                1            2               3  \\\n",
       "relevantWords  {'call': ''}  {'provide': ''}  {'add': ''}  {'define': ''}   \n",
       "wikiLink                NaN              NaN          NaN             NaN   \n",
       "\n",
       "                           4  \n",
       "relevantWords  {'write': ''}  \n",
       "wikiLink                 NaN  "
      ],
      "text/html": [
       "<div>\n",
       "<style scoped>\n",
       "    .dataframe tbody tr th:only-of-type {\n",
       "        vertical-align: middle;\n",
       "    }\n",
       "\n",
       "    .dataframe tbody tr th {\n",
       "        vertical-align: top;\n",
       "    }\n",
       "\n",
       "    .dataframe thead th {\n",
       "        text-align: right;\n",
       "    }\n",
       "</style>\n",
       "<table border=\"1\" class=\"dataframe\">\n",
       "  <thead>\n",
       "    <tr style=\"text-align: right;\">\n",
       "      <th></th>\n",
       "      <th>0</th>\n",
       "      <th>1</th>\n",
       "      <th>2</th>\n",
       "      <th>3</th>\n",
       "      <th>4</th>\n",
       "    </tr>\n",
       "  </thead>\n",
       "  <tbody>\n",
       "    <tr>\n",
       "      <th>relevantWords</th>\n",
       "      <td>{'call': ''}</td>\n",
       "      <td>{'provide': ''}</td>\n",
       "      <td>{'add': ''}</td>\n",
       "      <td>{'define': ''}</td>\n",
       "      <td>{'write': ''}</td>\n",
       "    </tr>\n",
       "    <tr>\n",
       "      <th>wikiLink</th>\n",
       "      <td>NaN</td>\n",
       "      <td>NaN</td>\n",
       "      <td>NaN</td>\n",
       "      <td>NaN</td>\n",
       "      <td>NaN</td>\n",
       "    </tr>\n",
       "  </tbody>\n",
       "</table>\n",
       "</div>"
      ]
     },
     "metadata": {},
     "execution_count": 10
    }
   ],
   "metadata": {}
  },
  {
   "cell_type": "code",
   "execution_count": 32,
   "source": [
    "df_trans['wikiLink'] = df_trans['wikiLink'].astype('str') \n",
    "emp = []\n",
    "df_trans.dtypes"
   ],
   "outputs": [
    {
     "output_type": "execute_result",
     "data": {
      "text/plain": [
       "relevantWords    object\n",
       "wikiLink         object\n",
       "dtype: object"
      ]
     },
     "metadata": {},
     "execution_count": 32
    }
   ],
   "metadata": {}
  },
  {
   "cell_type": "code",
   "execution_count": 24,
   "source": [
    "with_proper_wikilink"
   ],
   "outputs": [
    {
     "output_type": "execute_result",
     "data": {
      "text/plain": [
       "                                                    relevantWords wikiLink\n",
       "use             [{'call': ''}, {'provide': ''}, {'add': ''}, {...       []\n",
       "change          [{'modifiy': ''}, {'modifiactions': ''}, {'sto...       []\n",
       "form            [{'modelmultiplechoicefields': ''}, {'form han...       []\n",
       "opacity         [{'pdfpagerenderoptions': ''}, {'transparency'...       []\n",
       "build           [{'projectrefs': ''}, {'package for store': ''...       []\n",
       "...                                                           ...      ...\n",
       "datetbl                                                        []       []\n",
       "data.frq                                                       []       []\n",
       "dabatases                                                      []       []\n",
       "database.those                                                 []       []\n",
       "databanks                                                      []       []\n",
       "\n",
       "[104372 rows x 2 columns]"
      ],
      "text/html": [
       "<div>\n",
       "<style scoped>\n",
       "    .dataframe tbody tr th:only-of-type {\n",
       "        vertical-align: middle;\n",
       "    }\n",
       "\n",
       "    .dataframe tbody tr th {\n",
       "        vertical-align: top;\n",
       "    }\n",
       "\n",
       "    .dataframe thead th {\n",
       "        text-align: right;\n",
       "    }\n",
       "</style>\n",
       "<table border=\"1\" class=\"dataframe\">\n",
       "  <thead>\n",
       "    <tr style=\"text-align: right;\">\n",
       "      <th></th>\n",
       "      <th>relevantWords</th>\n",
       "      <th>wikiLink</th>\n",
       "    </tr>\n",
       "  </thead>\n",
       "  <tbody>\n",
       "    <tr>\n",
       "      <th>use</th>\n",
       "      <td>[{'call': ''}, {'provide': ''}, {'add': ''}, {...</td>\n",
       "      <td>[]</td>\n",
       "    </tr>\n",
       "    <tr>\n",
       "      <th>change</th>\n",
       "      <td>[{'modifiy': ''}, {'modifiactions': ''}, {'sto...</td>\n",
       "      <td>[]</td>\n",
       "    </tr>\n",
       "    <tr>\n",
       "      <th>form</th>\n",
       "      <td>[{'modelmultiplechoicefields': ''}, {'form han...</td>\n",
       "      <td>[]</td>\n",
       "    </tr>\n",
       "    <tr>\n",
       "      <th>opacity</th>\n",
       "      <td>[{'pdfpagerenderoptions': ''}, {'transparency'...</td>\n",
       "      <td>[]</td>\n",
       "    </tr>\n",
       "    <tr>\n",
       "      <th>build</th>\n",
       "      <td>[{'projectrefs': ''}, {'package for store': ''...</td>\n",
       "      <td>[]</td>\n",
       "    </tr>\n",
       "    <tr>\n",
       "      <th>...</th>\n",
       "      <td>...</td>\n",
       "      <td>...</td>\n",
       "    </tr>\n",
       "    <tr>\n",
       "      <th>datetbl</th>\n",
       "      <td>[]</td>\n",
       "      <td>[]</td>\n",
       "    </tr>\n",
       "    <tr>\n",
       "      <th>data.frq</th>\n",
       "      <td>[]</td>\n",
       "      <td>[]</td>\n",
       "    </tr>\n",
       "    <tr>\n",
       "      <th>dabatases</th>\n",
       "      <td>[]</td>\n",
       "      <td>[]</td>\n",
       "    </tr>\n",
       "    <tr>\n",
       "      <th>database.those</th>\n",
       "      <td>[]</td>\n",
       "      <td>[]</td>\n",
       "    </tr>\n",
       "    <tr>\n",
       "      <th>databanks</th>\n",
       "      <td>[]</td>\n",
       "      <td>[]</td>\n",
       "    </tr>\n",
       "  </tbody>\n",
       "</table>\n",
       "<p>104372 rows × 2 columns</p>\n",
       "</div>"
      ]
     },
     "metadata": {},
     "execution_count": 24
    }
   ],
   "metadata": {}
  },
  {
   "cell_type": "code",
   "execution_count": null,
   "source": [
    "for term in seDict:\n",
    "    print(term)"
   ],
   "outputs": [],
   "metadata": {}
  },
  {
   "cell_type": "code",
   "execution_count": 64,
   "source": [
    "for term, value in seDict.items():\n",
    "    print(term ,\":\",value)"
   ],
   "outputs": [
    {
     "output_type": "stream",
     "name": "stdout",
     "text": [
      "use : {'relevantWords': [{'call': ''}, {'provide': ''}, {'add': ''}, {'define': ''}, {'write': ''}], 'wikiLink': []}\n",
      "change : {'relevantWords': [{'modifiy': ''}, {'modifiactions': ''}, {'store password': ''}, {'replaceit': ''}, {'rechange': ''}, {'add': ''}], 'wikiLink': []}\n"
     ]
    }
   ],
   "metadata": {}
  },
  {
   "cell_type": "code",
   "execution_count": 65,
   "source": [
    "for term, value in seDict.items():\n",
    "    print(\"term is\", term, \"\\n\")\n",
    "    for level1, value1 in value.items():\n",
    "        print(level1, \":\", value1)"
   ],
   "outputs": [
    {
     "output_type": "stream",
     "name": "stdout",
     "text": [
      "term is use \n",
      "\n",
      "relevantWords : [{'call': ''}, {'provide': ''}, {'add': ''}, {'define': ''}, {'write': ''}]\n",
      "wikiLink : []\n",
      "term is change \n",
      "\n",
      "relevantWords : [{'modifiy': ''}, {'modifiactions': ''}, {'store password': ''}, {'replaceit': ''}, {'rechange': ''}, {'add': ''}]\n",
      "wikiLink : []\n"
     ]
    }
   ],
   "metadata": {}
  },
  {
   "cell_type": "code",
   "execution_count": null,
   "source": [
    "for term, value in seDict.items():\n",
    "    print(\"***************** TERM :\", term,\"*****************\")\n",
    "    for level1, value1 in value.items():\n",
    "        print(\"\\n----------------------\",level1,\"----------------------------\")\n",
    "        if(level1 == 'relevantWords'):\n",
    "            for synpair in value1:\n",
    "                for synonym,related_link in synpair.items():\n",
    "                    print(synonym,\":\",related_link)\n",
    "        if(level1 == 'wikiLink'):\n",
    "            for link in value1:\n",
    "                print(link)\n",
    "    print(\"\\n \\n\")"
   ],
   "outputs": [],
   "metadata": {}
  }
 ],
 "metadata": {
  "kernelspec": {
   "display_name": "Python 3",
   "language": "python",
   "name": "python3"
  },
  "language_info": {
   "codemirror_mode": {
    "name": "ipython",
    "version": 3
   },
   "file_extension": ".py",
   "mimetype": "text/x-python",
   "name": "python",
   "nbconvert_exporter": "python",
   "pygments_lexer": "ipython3",
   "version": "3.9.2"
  }
 },
 "nbformat": 4,
 "nbformat_minor": 5
}